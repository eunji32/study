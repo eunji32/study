{
 "cells": [
  {
   "cell_type": "markdown",
   "id": "4929da58",
   "metadata": {},
   "source": [
    "### 숫자처리함수"
   ]
  },
  {
   "cell_type": "code",
   "execution_count": 3,
   "id": "378486da",
   "metadata": {},
   "outputs": [
    {
     "name": "stdout",
     "output_type": "stream",
     "text": [
      "5\n",
      "16\n",
      "12\n",
      "5\n",
      "5\n",
      "3\n"
     ]
    }
   ],
   "source": [
    "print(abs(-5)) # 절댓값\n",
    "print(pow(4,2)) # 4^2\n",
    "print(max(5,12)) # 최댓값\n",
    "print(min(5,12))  # 최솟값\n",
    "print(round(3.14)) # 반올림\n",
    "print(round(4.99)) # 반올림"
   ]
  },
  {
   "cell_type": "code",
   "execution_count": 4,
   "id": "6d12011e",
   "metadata": {},
   "outputs": [
    {
     "name": "stdout",
     "output_type": "stream",
     "text": [
      "4\n",
      "4\n",
      "4.0\n"
     ]
    }
   ],
   "source": [
    "from math import *\n",
    "print(floor(4.99)) # 내림\n",
    "print(ceil(3.14)) # 올림\n",
    "print(sqrt(16)) # 제곱근"
   ]
  },
  {
   "cell_type": "markdown",
   "id": "04b1734f",
   "metadata": {},
   "source": [
    "### 랜덤함수"
   ]
  },
  {
   "cell_type": "code",
   "execution_count": 14,
   "id": "4bc84042",
   "metadata": {},
   "outputs": [
    {
     "name": "stdout",
     "output_type": "stream",
     "text": [
      "0.2883644383255568\n",
      "3.565211496181475\n"
     ]
    }
   ],
   "source": [
    "from random import *\n",
    "print(random()) # 0.0~1.0 미만의 임의의 값 생성\n",
    "print(random()*10) # 0.0~10.0 미만의 임의의 값 생성"
   ]
  },
  {
   "cell_type": "code",
   "execution_count": 15,
   "id": "9a46c8f6",
   "metadata": {},
   "outputs": [
    {
     "name": "stdout",
     "output_type": "stream",
     "text": [
      "8\n"
     ]
    }
   ],
   "source": [
    "print(int(random()*10)) # 0~10미만의 임의의 값 생성 "
   ]
  },
  {
   "cell_type": "code",
   "execution_count": 16,
   "id": "22c3ec74",
   "metadata": {},
   "outputs": [
    {
     "name": "stdout",
     "output_type": "stream",
     "text": [
      "10\n"
     ]
    }
   ],
   "source": [
    "print(int(random()*10)+1) # 1~10이하의 임의의 값 생성"
   ]
  },
  {
   "cell_type": "code",
   "execution_count": 17,
   "id": "f7080768",
   "metadata": {},
   "outputs": [
    {
     "name": "stdout",
     "output_type": "stream",
     "text": [
      "44\n"
     ]
    }
   ],
   "source": [
    "print(int(random()*45)+1) # 1~45 이하의 임의의 값 생성"
   ]
  },
  {
   "cell_type": "code",
   "execution_count": 18,
   "id": "9f9bf2d8",
   "metadata": {},
   "outputs": [
    {
     "name": "stdout",
     "output_type": "stream",
     "text": [
      "41\n"
     ]
    }
   ],
   "source": [
    "print(randrange(1,46)) # 1~46 미만의 임의의 값 생성"
   ]
  },
  {
   "cell_type": "code",
   "execution_count": 19,
   "id": "60a22287",
   "metadata": {},
   "outputs": [
    {
     "name": "stdout",
     "output_type": "stream",
     "text": [
      "4\n"
     ]
    }
   ],
   "source": [
    "print(randint(1,45)) # 1~45이하의 임의의 값 생성"
   ]
  },
  {
   "cell_type": "code",
   "execution_count": null,
   "id": "0de01de0",
   "metadata": {},
   "outputs": [],
   "source": []
  }
 ],
 "metadata": {
  "kernelspec": {
   "display_name": "Python 3 (ipykernel)",
   "language": "python",
   "name": "python3"
  },
  "language_info": {
   "codemirror_mode": {
    "name": "ipython",
    "version": 3
   },
   "file_extension": ".py",
   "mimetype": "text/x-python",
   "name": "python",
   "nbconvert_exporter": "python",
   "pygments_lexer": "ipython3",
   "version": "3.9.7"
  }
 },
 "nbformat": 4,
 "nbformat_minor": 5
}
