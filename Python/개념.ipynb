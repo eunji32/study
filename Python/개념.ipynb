{
 "cells": [
  {
   "cell_type": "markdown",
   "id": "4929da58",
   "metadata": {},
   "source": [
    "### 숫자처리함수"
   ]
  },
  {
   "cell_type": "code",
   "execution_count": 3,
   "id": "378486da",
   "metadata": {},
   "outputs": [
    {
     "name": "stdout",
     "output_type": "stream",
     "text": [
      "5\n",
      "16\n",
      "12\n",
      "5\n",
      "5\n",
      "3\n"
     ]
    }
   ],
   "source": [
    "print(abs(-5)) # 절댓값\n",
    "print(pow(4,2)) # 4^2\n",
    "print(max(5,12)) # 최댓값\n",
    "print(min(5,12))  # 최솟값\n",
    "print(round(3.14)) # 반올림\n",
    "print(round(4.99)) # 반올림"
   ]
  },
  {
   "cell_type": "code",
   "execution_count": 4,
   "id": "6d12011e",
   "metadata": {},
   "outputs": [
    {
     "name": "stdout",
     "output_type": "stream",
     "text": [
      "4\n",
      "4\n",
      "4.0\n"
     ]
    }
   ],
   "source": [
    "from math import *\n",
    "print(floor(4.99)) # 내림\n",
    "print(ceil(3.14)) # 올림\n",
    "print(sqrt(16)) # 제곱근"
   ]
  },
  {
   "cell_type": "markdown",
   "id": "04b1734f",
   "metadata": {},
   "source": [
    "### 랜덤함수"
   ]
  },
  {
   "cell_type": "code",
   "execution_count": 14,
   "id": "4bc84042",
   "metadata": {},
   "outputs": [
    {
     "name": "stdout",
     "output_type": "stream",
     "text": [
      "0.2883644383255568\n",
      "3.565211496181475\n"
     ]
    }
   ],
   "source": [
    "from random import *\n",
    "print(random()) # 0.0~1.0 미만의 임의의 값 생성\n",
    "print(random()*10) # 0.0~10.0 미만의 임의의 값 생성"
   ]
  },
  {
   "cell_type": "code",
   "execution_count": 15,
   "id": "9a46c8f6",
   "metadata": {},
   "outputs": [
    {
     "name": "stdout",
     "output_type": "stream",
     "text": [
      "8\n"
     ]
    }
   ],
   "source": [
    "print(int(random()*10)) # 0~10미만의 임의의 값 생성 "
   ]
  },
  {
   "cell_type": "code",
   "execution_count": 16,
   "id": "22c3ec74",
   "metadata": {},
   "outputs": [
    {
     "name": "stdout",
     "output_type": "stream",
     "text": [
      "10\n"
     ]
    }
   ],
   "source": [
    "print(int(random()*10)+1) # 1~10이하의 임의의 값 생성"
   ]
  },
  {
   "cell_type": "code",
   "execution_count": 17,
   "id": "f7080768",
   "metadata": {},
   "outputs": [
    {
     "name": "stdout",
     "output_type": "stream",
     "text": [
      "44\n"
     ]
    }
   ],
   "source": [
    "print(int(random()*45)+1) # 1~45 이하의 임의의 값 생성"
   ]
  },
  {
   "cell_type": "code",
   "execution_count": 18,
   "id": "9f9bf2d8",
   "metadata": {},
   "outputs": [
    {
     "name": "stdout",
     "output_type": "stream",
     "text": [
      "41\n"
     ]
    }
   ],
   "source": [
    "print(randrange(1,46)) # 1~46 미만의 임의의 값 생성"
   ]
  },
  {
   "cell_type": "code",
   "execution_count": 19,
   "id": "60a22287",
   "metadata": {},
   "outputs": [
    {
     "name": "stdout",
     "output_type": "stream",
     "text": [
      "4\n"
     ]
    }
   ],
   "source": [
    "print(randint(1,45)) # 1~45이하의 임의의 값 생성"
   ]
  },
  {
   "cell_type": "markdown",
   "id": "86ba4059",
   "metadata": {},
   "source": [
    "### 문자열처리함수"
   ]
  },
  {
   "cell_type": "code",
   "execution_count": 1,
   "id": "782b22e6",
   "metadata": {},
   "outputs": [
    {
     "name": "stdout",
     "output_type": "stream",
     "text": [
      "python is amazing\n",
      "PYTHON IS AMAZING\n",
      "True\n"
     ]
    }
   ],
   "source": [
    "python = \"Python is Amazing\"\n",
    "print(python.lower()) # 전체 소문자\n",
    "print(python.upper()) # 전체 대문자\n",
    "print(python[0].isupper()) # 대문자 = True"
   ]
  },
  {
   "cell_type": "code",
   "execution_count": 2,
   "id": "48ae4d79",
   "metadata": {},
   "outputs": [
    {
     "name": "stdout",
     "output_type": "stream",
     "text": [
      "17\n",
      "Java is Amazing\n"
     ]
    }
   ],
   "source": [
    "print(len(python))\n",
    "print(python.replace(\"Python\",\"Java\"))"
   ]
  },
  {
   "cell_type": "code",
   "execution_count": 3,
   "id": "042eed63",
   "metadata": {},
   "outputs": [
    {
     "name": "stdout",
     "output_type": "stream",
     "text": [
      "5\n",
      "15\n"
     ]
    }
   ],
   "source": [
    "index = python.index(\"n\")\n",
    "print(index)\n",
    "index = python.index(\"n\", index +1)\n",
    "print(index)"
   ]
  },
  {
   "cell_type": "code",
   "execution_count": 4,
   "id": "724a86ba",
   "metadata": {},
   "outputs": [
    {
     "name": "stdout",
     "output_type": "stream",
     "text": [
      "5\n"
     ]
    }
   ],
   "source": [
    "print(python.find('n'))"
   ]
  },
  {
   "cell_type": "code",
   "execution_count": 8,
   "id": "b47fdabd",
   "metadata": {},
   "outputs": [
    {
     "name": "stdout",
     "output_type": "stream",
     "text": [
      "-1\n"
     ]
    }
   ],
   "source": [
    "# 찾는 문자가 없을 때, index와 find의 차이\n",
    "print(python.find(\"Java\")) \n",
    "#print(python.index(\"Java\")) # 오류발생"
   ]
  },
  {
   "cell_type": "code",
   "execution_count": 9,
   "id": "e4cd360c",
   "metadata": {},
   "outputs": [
    {
     "name": "stdout",
     "output_type": "stream",
     "text": [
      "2\n"
     ]
    }
   ],
   "source": [
    "print(python.count('n')) "
   ]
  },
  {
   "cell_type": "markdown",
   "id": "f8653370",
   "metadata": {},
   "source": [
    "### 문자열포맷"
   ]
  },
  {
   "cell_type": "code",
   "execution_count": 16,
   "id": "aa04fe82",
   "metadata": {},
   "outputs": [
    {
     "name": "stdout",
     "output_type": "stream",
     "text": [
      "나는 20살입니다.\n",
      "나는 파이썬을 좋아합니다.\n",
      "Apple은 A로 시작합니다.\n"
     ]
    }
   ],
   "source": [
    "# 방법1\n",
    "print(\"나는 %d살입니다.\" % 20)\n",
    "print(\"나는 %s을 좋아합니다.\"% \"파이썬\")\n",
    "print(\"Apple은 %c로 시작합니다.\"%\"A\") # 한글자만"
   ]
  },
  {
   "cell_type": "code",
   "execution_count": 18,
   "id": "e15e223b",
   "metadata": {},
   "outputs": [
    {
     "name": "stdout",
     "output_type": "stream",
     "text": [
      "나는 20살입니다.\n"
     ]
    }
   ],
   "source": [
    "# %s\n",
    "print(\"나는 %s살입니다.\" % 20)"
   ]
  },
  {
   "cell_type": "code",
   "execution_count": 20,
   "id": "8599543e",
   "metadata": {},
   "outputs": [
    {
     "name": "stdout",
     "output_type": "stream",
     "text": [
      "파란색과 보라색을 좋아합니다.\n"
     ]
    }
   ],
   "source": [
    "print(\"%s색과 %s색을 좋아합니다.\" %(\"파란\",\"보라\"))"
   ]
  },
  {
   "cell_type": "code",
   "execution_count": 21,
   "id": "4b729140",
   "metadata": {},
   "outputs": [
    {
     "name": "stdout",
     "output_type": "stream",
     "text": [
      "나는 20살입니다.\n",
      "파란색과 보라색을 좋아합니다.\n",
      "파란색과 보라색을 좋아합니다.\n",
      "보라색과 파란색을 좋아합니다.\n"
     ]
    }
   ],
   "source": [
    "# 방법2\n",
    "print(\"나는 {}살입니다.\".format(20))\n",
    "print(\"{}색과 {}색을 좋아합니다.\".format(\"파란\",\"보라\"))\n",
    "print(\"{0}색과 {1}색을 좋아합니다.\".format(\"파란\",\"보라\"))\n",
    "print(\"{1}색과 {0}색을 좋아합니다.\".format(\"파란\",\"보라\"))"
   ]
  },
  {
   "cell_type": "code",
   "execution_count": 22,
   "id": "6b23581a",
   "metadata": {},
   "outputs": [
    {
     "name": "stdout",
     "output_type": "stream",
     "text": [
      "20살이며, 보라색을 좋아합니다.\n"
     ]
    }
   ],
   "source": [
    "# 방법3\n",
    "print(\"{age}살이며, {color}색을 좋아합니다.\".format(age=20,color=\"보라\"))"
   ]
  },
  {
   "cell_type": "code",
   "execution_count": 23,
   "id": "9f9b1fe3",
   "metadata": {},
   "outputs": [
    {
     "name": "stdout",
     "output_type": "stream",
     "text": [
      "20살이며, 보라색을 좋아합니다.\n"
     ]
    }
   ],
   "source": [
    "print(\"{age}살이며, {color}색을 좋아합니다.\".format(color=\"보라\",age=20))"
   ]
  },
  {
   "cell_type": "code",
   "execution_count": 24,
   "id": "5ff183d5",
   "metadata": {},
   "outputs": [
    {
     "name": "stdout",
     "output_type": "stream",
     "text": [
      "20살이며, 보라색을 좋아합니다.\n"
     ]
    }
   ],
   "source": [
    "# 방법4 (python3.6이상)\n",
    "age = 20\n",
    "color = \"보라\"\n",
    "print(f\"{age}살이며, {color}색을 좋아합니다.\")"
   ]
  },
  {
   "cell_type": "markdown",
   "id": "461d4fb6",
   "metadata": {},
   "source": [
    "### 탈출문자"
   ]
  },
  {
   "cell_type": "code",
   "execution_count": 25,
   "id": "04576a06",
   "metadata": {},
   "outputs": [
    {
     "name": "stdout",
     "output_type": "stream",
     "text": [
      "백문이 불여일견\n",
      "백견이 불여일타\n"
     ]
    }
   ],
   "source": [
    "# \\n : 줄바꿈\n",
    "print(\"백문이 불여일견\\n백견이 불여일타\")"
   ]
  },
  {
   "cell_type": "code",
   "execution_count": 26,
   "id": "3456e2db",
   "metadata": {},
   "outputs": [
    {
     "name": "stdout",
     "output_type": "stream",
     "text": [
      "저는 '홍길동'입니다.\n",
      "저는 \"홍길동\"입니다.\n",
      "저는 \"홍길동\"입니다.\n"
     ]
    }
   ],
   "source": [
    "# 문장 내 따옴표\n",
    "print(\"저는 '홍길동'입니다.\")\n",
    "print('저는 \"홍길동\"입니다.')\n",
    "print(\"저는 \\\"홍길동\\\"입니다.\")"
   ]
  },
  {
   "cell_type": "code",
   "execution_count": 30,
   "id": "9fa0610b",
   "metadata": {},
   "outputs": [
    {
     "name": "stdout",
     "output_type": "stream",
     "text": [
      "C:\\User\n"
     ]
    }
   ],
   "source": [
    "# \\\\ : 문장내 \\\n",
    "print(\"C:\\\\User\")"
   ]
  },
  {
   "cell_type": "code",
   "execution_count": 31,
   "id": "ef5f188f",
   "metadata": {},
   "outputs": [
    {
     "name": "stdout",
     "output_type": "stream",
     "text": [
      "Red Apple\r",
      "Pine\n"
     ]
    }
   ],
   "source": [
    "# \\r : 커서를 맨 앞으로 이동\n",
    "print(\"Red Apple\\rPine\")"
   ]
  },
  {
   "cell_type": "code",
   "execution_count": 32,
   "id": "e226639a",
   "metadata": {},
   "outputs": [
    {
     "name": "stdout",
     "output_type": "stream",
     "text": [
      "Redd\bApple\n"
     ]
    }
   ],
   "source": [
    "# \\b : 백스페이스(한글자 삭제)\n",
    "print(\"Redd\\bApple\")"
   ]
  },
  {
   "cell_type": "code",
   "execution_count": 33,
   "id": "e5c8b70b",
   "metadata": {},
   "outputs": [
    {
     "name": "stdout",
     "output_type": "stream",
     "text": [
      "Red\tApple\n"
     ]
    }
   ],
   "source": [
    "# \\t : 탭\n",
    "print(\"Red\\tApple\")"
   ]
  },
  {
   "cell_type": "code",
   "execution_count": null,
   "id": "657ce8e9",
   "metadata": {},
   "outputs": [],
   "source": []
  }
 ],
 "metadata": {
  "kernelspec": {
   "display_name": "Python 3 (ipykernel)",
   "language": "python",
   "name": "python3"
  },
  "language_info": {
   "codemirror_mode": {
    "name": "ipython",
    "version": 3
   },
   "file_extension": ".py",
   "mimetype": "text/x-python",
   "name": "python",
   "nbconvert_exporter": "python",
   "pygments_lexer": "ipython3",
   "version": "3.9.7"
  }
 },
 "nbformat": 4,
 "nbformat_minor": 5
}
