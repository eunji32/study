{
 "cells": [
  {
   "cell_type": "markdown",
   "id": "c86a0cc3",
   "metadata": {},
   "source": [
    "### 리스트"
   ]
  },
  {
   "cell_type": "code",
   "execution_count": 2,
   "id": "05ecae75",
   "metadata": {},
   "outputs": [
    {
     "name": "stdout",
     "output_type": "stream",
     "text": [
      "[10, 20, 30]\n"
     ]
    }
   ],
   "source": [
    "# 리스트[]\n",
    "\n",
    "subway = [10,20,30]\n",
    "print(subway)"
   ]
  },
  {
   "cell_type": "code",
   "execution_count": 3,
   "id": "c28e0297",
   "metadata": {},
   "outputs": [
    {
     "name": "stdout",
     "output_type": "stream",
     "text": [
      "['유재석', '조세호', '박명수']\n"
     ]
    }
   ],
   "source": [
    "subway = [\"유재석\",\"조세호\",\"박명수\"]\n",
    "print(subway)"
   ]
  },
  {
   "cell_type": "code",
   "execution_count": 4,
   "id": "8b8b6fc6",
   "metadata": {},
   "outputs": [
    {
     "name": "stdout",
     "output_type": "stream",
     "text": [
      "0\n"
     ]
    }
   ],
   "source": [
    "# 위치찾기\n",
    "print(subway.index(\"유재석\"))"
   ]
  },
  {
   "cell_type": "code",
   "execution_count": 5,
   "id": "b45e6e5a",
   "metadata": {},
   "outputs": [
    {
     "name": "stdout",
     "output_type": "stream",
     "text": [
      "['유재석', '조세호', '박명수', '하하']\n"
     ]
    }
   ],
   "source": [
    "# 추가1\n",
    "subway.append(\"하하\")\n",
    "print(subway)"
   ]
  },
  {
   "cell_type": "code",
   "execution_count": 6,
   "id": "dd5f320c",
   "metadata": {},
   "outputs": [
    {
     "name": "stdout",
     "output_type": "stream",
     "text": [
      "['유재석', '정형돈', '조세호', '박명수', '하하']\n"
     ]
    }
   ],
   "source": [
    "# 추가2\n",
    "subway.insert(1,\"정형돈\")\n",
    "print(subway)"
   ]
  },
  {
   "cell_type": "code",
   "execution_count": 7,
   "id": "fb74e17d",
   "metadata": {},
   "outputs": [
    {
     "name": "stdout",
     "output_type": "stream",
     "text": [
      "하하\n"
     ]
    }
   ],
   "source": [
    "# 삭제\n",
    "print(subway.pop())"
   ]
  },
  {
   "cell_type": "code",
   "execution_count": 8,
   "id": "c1fac5e5",
   "metadata": {},
   "outputs": [
    {
     "name": "stdout",
     "output_type": "stream",
     "text": [
      "['유재석', '정형돈', '조세호', '박명수', '유재석']\n",
      "2\n"
     ]
    }
   ],
   "source": [
    "# 카운트\n",
    "subway.append(\"유재석\")\n",
    "print(subway)\n",
    "print(subway.count(\"유재석\"))"
   ]
  },
  {
   "cell_type": "code",
   "execution_count": 9,
   "id": "b256258e",
   "metadata": {},
   "outputs": [
    {
     "name": "stdout",
     "output_type": "stream",
     "text": [
      "[1, 2, 3, 4, 5, 6]\n"
     ]
    }
   ],
   "source": [
    "# 정렬\n",
    "num_list = [5,2,4,3,6,1]\n",
    "num_list.sort()\n",
    "print(num_list)"
   ]
  },
  {
   "cell_type": "code",
   "execution_count": 10,
   "id": "a75a5e1f",
   "metadata": {},
   "outputs": [
    {
     "name": "stdout",
     "output_type": "stream",
     "text": [
      "[6, 5, 4, 3, 2, 1]\n"
     ]
    }
   ],
   "source": [
    "# 순서뒤집기\n",
    "num_list.reverse()\n",
    "print(num_list)"
   ]
  },
  {
   "cell_type": "code",
   "execution_count": 11,
   "id": "713c9b15",
   "metadata": {},
   "outputs": [
    {
     "name": "stdout",
     "output_type": "stream",
     "text": [
      "[]\n"
     ]
    }
   ],
   "source": [
    "# 모두지우기\n",
    "num_list.clear()\n",
    "print(num_list)"
   ]
  },
  {
   "cell_type": "code",
   "execution_count": 13,
   "id": "075e7c6b",
   "metadata": {},
   "outputs": [
    {
     "name": "stdout",
     "output_type": "stream",
     "text": [
      "['유재석', 20, True]\n",
      "[5, 2, 4, 3, 6, 1, '유재석', 20, True]\n"
     ]
    }
   ],
   "source": [
    "# 다양한 자료형 함께사용\n",
    "num_list = [5,2,4,3,6,1]\n",
    "mix_list = [\"유재석\",20,True]\n",
    "print(mix_list)\n",
    "\n",
    "# 리스트 확장\n",
    "num_list.extend(mix_list)\n",
    "print(num_list)"
   ]
  },
  {
   "cell_type": "code",
   "execution_count": null,
   "id": "7cc0ef8e",
   "metadata": {},
   "outputs": [],
   "source": []
  }
 ],
 "metadata": {
  "kernelspec": {
   "display_name": "Python 3 (ipykernel)",
   "language": "python",
   "name": "python3"
  },
  "language_info": {
   "codemirror_mode": {
    "name": "ipython",
    "version": 3
   },
   "file_extension": ".py",
   "mimetype": "text/x-python",
   "name": "python",
   "nbconvert_exporter": "python",
   "pygments_lexer": "ipython3",
   "version": "3.9.7"
  }
 },
 "nbformat": 4,
 "nbformat_minor": 5
}
