{
 "cells": [
  {
   "cell_type": "code",
   "execution_count": 1,
   "id": "3e6a9ed9",
   "metadata": {},
   "outputs": [],
   "source": [
    "# [출처]나도코딩 - 파이썬(기본)"
   ]
  },
  {
   "cell_type": "code",
   "execution_count": 3,
   "id": "05a2628e",
   "metadata": {},
   "outputs": [
    {
     "name": "stdout",
     "output_type": "stream",
     "text": [
      "사당행 열차가 들어오고 있습니다.\n"
     ]
    }
   ],
   "source": [
    "# 1. 변수 이용하여 문장 출력\n",
    "station = \"사당\"\n",
    "print(station+\"행 열차가 들어오고 있습니다.\")"
   ]
  },
  {
   "cell_type": "code",
   "execution_count": 9,
   "id": "29f1a21a",
   "metadata": {},
   "outputs": [
    {
     "name": "stdout",
     "output_type": "stream",
     "text": [
      "모임날짜는 매월21일로 선정되었습니다.\n"
     ]
    }
   ],
   "source": [
    "\"\"\"\n",
    "2. 월 4회 스터디 3번은 온라인 1번은 오프라인.\n",
    "   오프라인 모임 날짜를 정해주는 프로그램 작성.\n",
    "   1) 랜덤으로 날짜생성\n",
    "   2) 월별 날짜는 다름을 감안하여 최소 일수인 28일 이내로 정함\n",
    "   3) 매월1~3일은 제외\n",
    "* 출력문 : 모임날짜는 매월 x일로 선정되었습니다.   \n",
    "\"\"\"\n",
    "from random import *\n",
    "\n",
    "date = randint(4,28)\n",
    "print(\"모임날짜는 매월\"+ str(date) +\"일로 선정되었습니다.\")"
   ]
  },
  {
   "cell_type": "code",
   "execution_count": null,
   "id": "31134fd2",
   "metadata": {},
   "outputs": [],
   "source": []
  }
 ],
 "metadata": {
  "kernelspec": {
   "display_name": "Python 3 (ipykernel)",
   "language": "python",
   "name": "python3"
  },
  "language_info": {
   "codemirror_mode": {
    "name": "ipython",
    "version": 3
   },
   "file_extension": ".py",
   "mimetype": "text/x-python",
   "name": "python",
   "nbconvert_exporter": "python",
   "pygments_lexer": "ipython3",
   "version": "3.9.7"
  }
 },
 "nbformat": 4,
 "nbformat_minor": 5
}
